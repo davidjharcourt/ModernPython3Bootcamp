{
 "cells": [
  {
   "cell_type": "code",
   "execution_count": 1,
   "metadata": {},
   "outputs": [
    {
     "name": "stdout",
     "output_type": "stream",
     "text": [
      "81\n"
     ]
    }
   ],
   "source": [
    "def square(num):\n",
    "    return num * num\n",
    "print(square(9))"
   ]
  },
  {
   "cell_type": "code",
   "execution_count": 2,
   "metadata": {},
   "outputs": [
    {
     "name": "stdout",
     "output_type": "stream",
     "text": [
      "49\n"
     ]
    }
   ],
   "source": [
    "square2 = lambda num: num * num\n",
    "print(square2(7))\n"
   ]
  },
  {
   "cell_type": "code",
   "execution_count": 3,
   "metadata": {},
   "outputs": [
    {
     "name": "stdout",
     "output_type": "stream",
     "text": [
      "square\n"
     ]
    }
   ],
   "source": [
    "print(square.__name__)"
   ]
  },
  {
   "cell_type": "code",
   "execution_count": 4,
   "metadata": {},
   "outputs": [
    {
     "name": "stdout",
     "output_type": "stream",
     "text": [
      "<lambda>\n"
     ]
    }
   ],
   "source": [
    "print(square2.__name__)"
   ]
  },
  {
   "cell_type": "code",
   "execution_count": 5,
   "metadata": {},
   "outputs": [
    {
     "name": "stdout",
     "output_type": "stream",
     "text": [
      "Hello\n",
      "Hello\n",
      "Hello\n",
      "Hello\n",
      "Hello\n"
     ]
    }
   ],
   "source": [
    "import tkinter as tk\n",
    "# DON'T WORRY ABOUT ANY OF THIS CODE\n",
    "root = tk.Tk()#=====================\n",
    "frame = tk.Frame(root)#=============\n",
    "frame.pack()#=======================\n",
    "# DON'T WORRY ABOUT ANY OF THIS CODE\n",
    "\n",
    "# Don't need this function if we use a lambda \n",
    "# def say_hi():\n",
    "#     print(\"HELLO!\")\n",
    "\n",
    "button = tk.Button(frame, \n",
    "                   text=\"CLICK ME\", \n",
    "                   fg=\"red\",\n",
    "                   command=lambda: print(\"Hello\"))\n",
    "\n",
    "\n",
    "\n",
    "# DON'T WORRY ABOUT ANY OF THIS CODE\n",
    "button.pack(side=tk.LEFT) #=========\n",
    "root.mainloop() #===================\n",
    "# DON'T WORRY ABOUT ANY OF THIS CODE\n"
   ]
  },
  {
   "cell_type": "code",
   "execution_count": null,
   "metadata": {},
   "outputs": [],
   "source": []
  }
 ],
 "metadata": {
  "kernelspec": {
   "display_name": "Python 3",
   "language": "python",
   "name": "python3"
  },
  "language_info": {
   "codemirror_mode": {
    "name": "ipython",
    "version": 3
   },
   "file_extension": ".py",
   "mimetype": "text/x-python",
   "name": "python",
   "nbconvert_exporter": "python",
   "pygments_lexer": "ipython3",
   "version": "3.7.1"
  }
 },
 "nbformat": 4,
 "nbformat_minor": 2
}
