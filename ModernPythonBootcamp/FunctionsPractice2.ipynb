{
 "cells": [
  {
   "cell_type": "code",
   "execution_count": 1,
   "metadata": {},
   "outputs": [
    {
     "name": "stdout",
     "output_type": "stream",
     "text": [
      "19\n"
     ]
    }
   ],
   "source": [
    "def sum_all_nums(num1,num2,num3):\n",
    "    return num1 + num2 + num3\n",
    "\n",
    "print(sum_all_nums(4,6,9))"
   ]
  },
  {
   "cell_type": "code",
   "execution_count": 5,
   "metadata": {},
   "outputs": [
    {
     "data": {
      "text/plain": [
       "27"
      ]
     },
     "execution_count": 5,
     "metadata": {},
     "output_type": "execute_result"
    }
   ],
   "source": [
    "def sum_all_nums(*args):\n",
    "    total = 0\n",
    "    for num in args:\n",
    "        total += num\n",
    "    return total\n",
    "\n",
    "sum_all_nums(2,4,6)\n",
    "sum_all_nums(4,5,6,3,9)"
   ]
  },
  {
   "cell_type": "code",
   "execution_count": 6,
   "metadata": {},
   "outputs": [],
   "source": [
    "def contains_purple(*args):\n",
    "    if 'purple' in args:\n",
    "        return True\n",
    "    return False"
   ]
  },
  {
   "cell_type": "code",
   "execution_count": 9,
   "metadata": {},
   "outputs": [
    {
     "name": "stdout",
     "output_type": "stream",
     "text": [
      "david's favorite color is blue\n",
      "natalie's favorite color is teal\n",
      "mom's favorite color is green\n"
     ]
    }
   ],
   "source": [
    "def fav_colors(**kwargs):\n",
    "    for person,color in kwargs.items():\n",
    "        print(f\"{person}'s favorite color is {color}\")\n",
    "fav_colors(david = 'blue',natalie = 'teal',mom = 'green')"
   ]
  },
  {
   "cell_type": "code",
   "execution_count": 10,
   "metadata": {},
   "outputs": [],
   "source": [
    "# Define combine_words below:\n",
    "def combine_words(word,**kwargs):\n",
    "    if 'prefix' in kwargs:\n",
    "        return kwargs['prefix'] + word\n",
    "    elif 'suffix' in kwargs:\n",
    "        return word + kwargs['suffix']\n",
    "    return word"
   ]
  },
  {
   "cell_type": "code",
   "execution_count": 13,
   "metadata": {},
   "outputs": [
    {
     "name": "stdout",
     "output_type": "stream",
     "text": [
      "15\n"
     ]
    }
   ],
   "source": [
    "def sum_all_values(*args):\n",
    "    total = 0\n",
    "    for num in args:\n",
    "        total += num\n",
    "    print(total)\n",
    "\n",
    "nums = [1,2,3,4,5]\n",
    "sum_all_values(*nums)"
   ]
  },
  {
   "cell_type": "code",
   "execution_count": 14,
   "metadata": {},
   "outputs": [],
   "source": [
    "# NO TOUCHING! =================================================================\n",
    "def count_sevens(*args):\n",
    "    return args.count(7)\n",
    "\n",
    "nums = [90,1,35,67,89,20,3,1,2,3,4,5,6,9,34,46,57,68,79,12,23,34,55,1,90,54,34,76,8,23,34,45,56,67,78,12,23,34,45,56,67,768,23,4,5,6,7,8,9,12,34,14,15,16,17,11,7,11,8,4,6,2,5,8,7,10,12,13,14,15,7,8,7,7,345,23,34,45,56,67,1,7,3,6,7,2,3,4,5,6,7,8,9,8,7,6,5,4,2,1,2,3,4,5,6,7,8,9,0,9,8,7,8,7,6,5,4,3,2,1,7]\n",
    "# NO TOUCHING! =================================================================\n",
    "\n",
    "# Write your code below:\n",
    "\n",
    "result1 = count_sevens(1,4,7)\n",
    "\n",
    "result2 = count_sevens(*nums)"
   ]
  },
  {
   "cell_type": "code",
   "execution_count": 16,
   "metadata": {},
   "outputs": [
    {
     "name": "stdout",
     "output_type": "stream",
     "text": [
      "David says hello to Natalie\n"
     ]
    }
   ],
   "source": [
    "def display_names(first,second):\n",
    "    print(f\"{first} says hello to {second}\")\n",
    "    \n",
    "names = {\"first\": \"David\",\"second\": \"Natalie\"}\n",
    "\n",
    "display_names(**names)"
   ]
  },
  {
   "cell_type": "code",
   "execution_count": 17,
   "metadata": {},
   "outputs": [],
   "source": [
    "'''\n",
    "calculate(make_float=False, operation='add', message='You just added', first=2, second=4) # \"You just added 6\"\n",
    "calculate(make_float=True, operation='divide', first=3.5, second=5) # \"The result is 0.7\"\n",
    "'''\n",
    "\n",
    "def calculate(**kwargs):\n",
    "    operation_lookup = {\n",
    "        'add': kwargs.get('first',0) + kwargs.get('second',0),\n",
    "        'subtract': kwargs.get('first',0) - kwargs.get('second',0), \n",
    "        'multiply': kwargs.get('first',0) * kwargs.get('second',0), \n",
    "        'divide': kwargs.get('first',0) / kwargs.get('second',0)}\n",
    "    is_float = kwargs.get('make_float',False)\n",
    "    operation_value = operation_lookup[kwargs.get('operation','')]\n",
    "    if is_float:\n",
    "        final = \"{} {}\".format(kwargs.get('message','The result is'),float(operation_value))\n",
    "    else:\n",
    "        final = \"{} {}\".format(kwargs.get('message','The result is'),int(operation_value))\n",
    "    return final"
   ]
  },
  {
   "cell_type": "code",
   "execution_count": null,
   "metadata": {},
   "outputs": [],
   "source": []
  }
 ],
 "metadata": {
  "kernelspec": {
   "display_name": "Python 3",
   "language": "python",
   "name": "python3"
  },
  "language_info": {
   "codemirror_mode": {
    "name": "ipython",
    "version": 3
   },
   "file_extension": ".py",
   "mimetype": "text/x-python",
   "name": "python",
   "nbconvert_exporter": "python",
   "pygments_lexer": "ipython3",
   "version": "3.7.1"
  }
 },
 "nbformat": 4,
 "nbformat_minor": 2
}
