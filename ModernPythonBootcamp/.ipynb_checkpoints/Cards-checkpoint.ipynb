{
 "cells": [
  {
   "cell_type": "code",
   "execution_count": 125,
   "metadata": {},
   "outputs": [
    {
     "name": "stdout",
     "output_type": "stream",
     "text": [
      "52\n",
      "Deck of 52 Cards\n",
      "Deck of 52 Cards\n",
      "2 of Spades\n",
      "[5 of Diamonds, 10 of Hearts, 9 of Hearts, 10 of Spades, 3 of Diamonds]\n"
     ]
    }
   ],
   "source": [
    "from random import shuffle\n",
    "\n",
    "class Card:    \n",
    "    def __init__(self, value, suit):\n",
    "        self.suit = suit\n",
    "        self.value = value\n",
    "\n",
    "    def __repr__(self):\n",
    "        return f\"{self.value} of {self.suit}\"\n",
    "    \n",
    "class Deck:   \n",
    "    \n",
    "    def __init__(self): \n",
    "        suits = ['Hearts','Diamonds','Clubs','Spades']\n",
    "        values = ['A','2','3','4','5','6','7','8','9','10','J','Q','K']\n",
    "        self.cards = [Card(value,suit) for value in values for suit in suits]\n",
    "        \n",
    "    def count(self):\n",
    "        return len(self.cards)\n",
    "           \n",
    "    def __repr__(self):\n",
    "        return f\"Deck of {self.count()} Cards\"\n",
    "    \n",
    "    def _deal(self,num):\n",
    "        count = self.count()\n",
    "        actual = min([count,num])\n",
    "        if count == 0:\n",
    "            raise ValueError(\"All cards have been dealt\")\n",
    "        cards = self.cards[-actual:]\n",
    "        self.cards = self.cards[:-actual]\n",
    "        return cards\n",
    "          \n",
    "    def deal_card(self):\n",
    "        return self._deal(1)[0]\n",
    "    \n",
    "    def deal_hand(self,hand_size):\n",
    "        return self._deal(hand_size)\n",
    "    \n",
    "    def shuffle(self):\n",
    "        if self.count() < 52:\n",
    "            raise ValueError(\"Only full decks can be shuffled\")\n",
    "        shuffle(self.cards)\n",
    "        return self\n",
    "        \n",
    "my_deck = Deck()\n",
    "print(my_deck.count())\n",
    "print(my_deck.__repr__())\n",
    "#print(my_deck._deal(3))\n",
    "print(my_deck.shuffle())\n",
    "print(my_deck.deal_card())\n",
    "print(my_deck.deal_hand(5))\n",
    "\n"
   ]
  },
  {
   "cell_type": "code",
   "execution_count": 98,
   "metadata": {},
   "outputs": [
    {
     "name": "stdout",
     "output_type": "stream",
     "text": [
      "[1, 3, 4]\n"
     ]
    }
   ],
   "source": [
    "first_list = [1, 2, 3, 4]\n",
    "# first_list.pop()\n",
    "# print(first_list)\n",
    "first_list.pop(1)\n",
    "print(first_list)\n",
    "\n",
    "# first_list = [1, 2, 3, 4, 4, 4]\n",
    "# first_list.remove(2)\n",
    "# print(first_list)\n",
    "# first_list.remove(4)\n",
    "# print(first_list)"
   ]
  },
  {
   "cell_type": "code",
   "execution_count": 124,
   "metadata": {},
   "outputs": [
    {
     "name": "stdout",
     "output_type": "stream",
     "text": [
      "5 of Clubs\n",
      "[8 of Hearts]\n"
     ]
    }
   ],
   "source": [
    "from random import shuffle\n",
    "# Each instance of Card  should have a suit (\"Hearts\", \"Diamonds\", \"Clubs\", or \"Spades\").\n",
    "# Each instance of Card  should have a value (\"A\", \"2\", \"3\", \"4\", \"5\", \"6\", \"7\", \"8\", \"9\", \"10\", \"J\", \"Q\", \"K\").\n",
    "# Card 's __repr__  method should display the card's value and suit (e.g. \"A of Clubs\", \"J of Diamonds\", etc.)\n",
    "\n",
    "\n",
    "class Card:\n",
    "\tdef __init__(self, value, suit):\n",
    "\t\tself.value = value\n",
    "\t\tself.suit = suit\n",
    "\n",
    "\tdef __repr__(self):\n",
    "\t\t# return \"{} of {}\".format(self.value, self.suit)\n",
    "\t\treturn f\"{self.value} of {self.suit}\"\n",
    "\n",
    "# Each instance of Deck  should have a cards attribute with all 52 possible instances of Card .\n",
    "# Deck  should have an instance method called count  which returns a count of how many cards remain in the deck.\n",
    "# Deck 's __repr__  method should display information on how many cards are in the deck (e.g. \"Deck of 52 cards\", \"Deck of 12 cards\", etc.)\n",
    "# Deck  should have an instance method called _deal  which accepts a number and removes at most that many cards from the deck (it may need to remove fewer if you request more cards than are currently in the deck!). If there are no cards left, this method should return a ValueError  with the message \"All cards have been dealt\".\n",
    "# Deck  should have an instance method called shuffle  which will shuffle a full deck of cards. If there are cards missing from the deck, this method should return a ValueError  with the message \"Only full decks can be shuffled\".\n",
    "# Deck  should have an instance method called deal_card  which uses the _deal  method to deal a single card from the deck.\n",
    "# Deck  should have an instance method called deal_hand  which accepts a number and uses the _deal  method to deal a list of cards from the deck.\n",
    "\n",
    "class Deck:\n",
    "\tdef __init__(self):\n",
    "\t\tsuits = [\"Hearts\", \"Diamonds\", \"Clubs\", \"Spades\"]\n",
    "\t\tvalues = ['A','2','3','4','5','6','7','8','9','10','J','Q','K']\n",
    "\t\tself.cards = [Card(value, suit) for suit in suits for value in values]\n",
    "\n",
    "\tdef __repr__(self):\n",
    "\t\treturn f\"Deck of {self.count()} cards\"\n",
    "\n",
    "\tdef count(self):\n",
    "\t\treturn len(self.cards)\n",
    "\n",
    "\tdef _deal(self, num):\n",
    "\t\tcount = self.count()\n",
    "\t\tactual = min([count,num])\n",
    "\t\tif count == 0:\n",
    "\t\t\traise ValueError(\"All cards have been dealt\")\n",
    "\t\tcards = self.cards[-actual:]\n",
    "\t\tself.cards = self.cards[:-actual]\n",
    "\t\treturn cards\n",
    "\n",
    "\tdef deal_card(self):\n",
    "\t\treturn self._deal(1)[0]\n",
    "\n",
    "\tdef deal_hand(self, hand_size):\n",
    "\t\treturn self._deal(hand_size)\n",
    "\n",
    "\tdef shuffle(self):\n",
    "\t\tif self.count() < 52:\n",
    "\t\t\traise ValueError(\"Only full decks can be shuffled\")\n",
    "\n",
    "\t\tshuffle(self.cards)\n",
    "\t\treturn self\n",
    "\n",
    "\n",
    "d = Deck()\n",
    "d.shuffle()\n",
    "card = d.deal_card()\n",
    "print(card)\n",
    "hand = d.deal_hand(50)\n",
    "# card2 = d.deal_card()\n",
    "# print(card2)\n",
    "print(d.cards)\n",
    "card2 = d.deal_card()"
   ]
  }
 ],
 "metadata": {
  "kernelspec": {
   "display_name": "Python 3",
   "language": "python",
   "name": "python3"
  },
  "language_info": {
   "codemirror_mode": {
    "name": "ipython",
    "version": 3
   },
   "file_extension": ".py",
   "mimetype": "text/x-python",
   "name": "python",
   "nbconvert_exporter": "python",
   "pygments_lexer": "ipython3",
   "version": "3.7.1"
  }
 },
 "nbformat": 4,
 "nbformat_minor": 2
}
